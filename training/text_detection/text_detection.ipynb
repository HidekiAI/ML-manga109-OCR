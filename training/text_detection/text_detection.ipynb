{
  "cells": [
    {
      "cell_type": "markdown",
      "metadata": {
        "colab_type": "text",
        "id": "view-in-github"
      },
      "source": [
        "<a href=\"https://colab.research.google.com/github/HidekiAI/ML-manga109-OCR/blob/trunk/Untitled0.ipynb\" target=\"_parent\"><img src=\"https://colab.research.google.com/assets/colab-badge.svg\" alt=\"Open In Colab\"/></a>\n"
      ]
    },
    {
      "cell_type": "markdown",
      "metadata": {},
      "source": [
        "First two are essential, but not necessarily needed for both CoLab and local Jupyter-notebook. But without these, when you crash or restart, you cannot skip it... For CoLab, you must first make sure remote drive is mounted. To align BASH and Python scripts to work on multiple platform, for local, you'd need to either soft-link (or junction) and/or mount (i.e. `mount bind`).\n",
        "\n",
        "Note that below is ONLY necessary for Google CoLab to access your Google Drive. If on Notepad/Jupyter, do the following instead (not exact, just the example):\n",
        "\n",
        "-   Linux: make sure to `ln -sv ~/Google/MyDrive /content/drive` to softlink your Google G-Drive as `/content/drive`\n",
        "-   Windows: From DOS Command Prompt (right clock to launch as Admin) `mklink.exe /D \"C:/content/drive\" \"C:/Users/HidekiAI/Google/MyDrive/\"` to create a dir-junction\n"
      ]
    },
    {
      "cell_type": "code",
      "execution_count": null,
      "metadata": {},
      "outputs": [],
      "source": [
        "#!/usr/bin/python\n",
        "# No need to execute this if running locally, this is only for Google CoLab usage\n",
        "from google.colab import drive\n",
        "drive.mount('/content/drive')"
      ]
    },
    {
      "cell_type": "markdown",
      "metadata": {},
      "source": [
        "## Constants\n",
        "\n",
        "Where are my data, where do I save my trained data and progress\n"
      ]
    },
    {
      "cell_type": "code",
      "execution_count": null,
      "metadata": {},
      "outputs": [],
      "source": [
        "#!/usr/bin/python\n",
        "import os\n",
        "\n",
        "global train_path, val_path, test_path, data_yaml_path\n",
        "\n",
        "train_path = '/content/drive/MyDrive/projects/ML-manga-ocr-rust/data/text_detection/images/train'\n",
        "val_path = '/content/drive/MyDrive/projects/ML-manga-ocr-rust/data/text_detection/images/val'\n",
        "test_path = '/content/drive/MyDrive/projects/ML-manga-ocr-rust/data/text_detection/images/test'\n",
        "data_yaml_path = '/content/drive/MyDrive/projects/ML-manga-ocr-rust/data/text_detection/'\n",
        "data_yaml_file_path = os.path.join(data_yaml_path, 'data.yaml')\n",
        "\n",
        "# print CURRENT directory:\n",
        "print(f\"Current directory: {os.getcwd()}\")\n",
        "\n",
        "# if cwd starts with \"C:\\\", then we are in Windows, so switch paths\n",
        "if os.getcwd().startswith(\"C:\\\\\"):\n",
        "    train_path = '../../data/images/train'\n",
        "    val_path = '../../data/images/val'\n",
        "    test_path = '../../data/images/test'\n",
        "    data_yaml_path = './data/'\n",
        "    data_yaml_file_path = os.path.join(data_yaml_path, 'data.yaml')\n",
        "\n",
        "# validate paths exist\n",
        "if not os.path.exists(train_path):\n",
        "    print(f\"Train path {train_path} does not exist\")\n",
        "if not os.path.exists(val_path):\n",
        "    print(f\"Validation path {val_path} does not exist\")\n",
        "if not os.path.exists(test_path):\n",
        "    print(f\"Test path {test_path} does not exist\")\n",
        "if not os.path.exists(data_yaml_path):\n",
        "    print(f\"Data yaml path {data_yaml_path} does not exist\")"
      ]
    },
    {
      "cell_type": "markdown",
      "metadata": {},
      "source": [
        "## Libs\n",
        "\n",
        "-   Ultralitics YOLO\n"
      ]
    },
    {
      "cell_type": "code",
      "execution_count": null,
      "metadata": {},
      "outputs": [],
      "source": [
        "#!/bin/bash\n",
        "%pip install ultralytics"
      ]
    },
    {
      "cell_type": "markdown",
      "metadata": {},
      "source": [
        "## data.yaml\n",
        "\n",
        "YAML config for YOLO; note that because it's YAML file, it's not based on env-vars or globals\n"
      ]
    },
    {
      "cell_type": "code",
      "execution_count": null,
      "metadata": {},
      "outputs": [],
      "source": [
        "#!/usr/bin/python\n",
        "\n",
        "data_yaml_content = f\"\"\"\n",
        "train: {train_path}\n",
        "val: {val_path}\n",
        "test: {test_path}\n",
        "\n",
        "nc: 1  # number of classes\n",
        "names: ['text']  # class names\n",
        "\"\"\"\n",
        "\n",
        "with open(data_yaml_file_path, 'w') as f:\n",
        "    f.write(data_yaml_content)\n",
        "\n",
        "# verify file now exists:\n",
        "if not os.path.exists(data_yaml_file_path):\n",
        "    print(f\"Data yaml file {data_yaml_file_path} does not exist\")\n",
        "\n",
        "# Dump yaml content to verify, by reading it back\n",
        "with open(data_yaml_file_path, 'r') as f:\n",
        "    print(f.read())"
      ]
    },
    {
      "cell_type": "markdown",
      "metadata": {},
      "source": [
        "## Training\n",
        "\n",
        "```bash\n",
        "yolo detect train data=data.yaml epochs=50 imgsz=640\n",
        "```\n",
        "\n",
        "Usage of Model size:\n",
        "\n",
        "- `yolov8n.pt` (Nano): The smallest model, optimized for speed and efficiency on resource-constrained devices. It has the least number of parameters and computational complexity, making it fast but less accurate.\n",
        "- `yolov8s.pt` (Small): A small model that offers a good balance between speed and accuracy. Suitable for scenarios where both performance and accuracy are important but resource usage needs to be moderate.\n",
        "- `yolov8m.pt` (Medium): A medium-sized model that improves accuracy over the small model but at the cost of additional computational resources and slower inference times.\n",
        "- `yolov8l.pt` (Large): A larger model with more parameters and higher computational requirements, offering higher accuracy but slower inference times.\n",
        "- `yolov8x.pt` (Extra Large): The largest model with the highest number of parameters and computational requirements. It provides the best accuracy but is the slowest in terms of inference speed.\n"
      ]
    },
    {
      "cell_type": "code",
      "execution_count": null,
      "metadata": {},
      "outputs": [],
      "source": [
        "#!/usr/bin/python\n",
        "\n",
        "########################### NOTE: ###########################\n",
        "# This seems to only work on CoLab and not locally (maybe because\n",
        "# I lack GPU, maybe because I was testing on Windows, etc)\n",
        "#############################################################\n",
        "\n",
        "from ultralytics import YOLO\n",
        "\n",
        "# print current directory\n",
        "print(f\"Current directory: {os.getcwd()}\")\n",
        "\n",
        "# Load the YOLO model\n",
        "model = YOLO('yolov8s.pt')  # see MD coment above for other versions\n",
        "\n",
        "# dump data.yaml content\n",
        "with open(data_yaml_file_path, 'r') as f:\n",
        "    print(f.read())\n",
        "\n",
        "# Train the model\n",
        "model.train(data=data_yaml_file_path, epochs=50, imgsz=640)"
      ]
    }
  ],
  "metadata": {
    "colab": {
      "authorship_tag": "ABX9TyMJa4AZntSaTgDIhORKwCOR",
      "include_colab_link": true,
      "provenance": [],
      "toc_visible": true
    },
    "kernelspec": {
      "display_name": "Python 3",
      "name": "python3"
    },
    "language_info": {
      "codemirror_mode": {
        "name": "ipython",
        "version": 3
      },
      "file_extension": ".py",
      "mimetype": "text/x-python",
      "name": "python",
      "nbconvert_exporter": "python",
      "pygments_lexer": "ipython3",
      "version": "3.11.7"
    }
  },
  "nbformat": 4,
  "nbformat_minor": 0
}
