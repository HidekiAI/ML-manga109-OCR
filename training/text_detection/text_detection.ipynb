{
  "cells": [
    {
      "cell_type": "markdown",
      "metadata": {
        "colab_type": "text",
        "id": "view-in-github"
      },
      "source": [
        "<a href=\"https://colab.research.google.com/github/HidekiAI/ML-manga109-OCR/blob/trunk/Untitled0.ipynb\" target=\"_parent\"><img src=\"https://colab.research.google.com/assets/colab-badge.svg\" alt=\"Open In Colab\"/></a>\n"
      ]
    },
    {
      "cell_type": "markdown",
      "metadata": {},
      "source": [
        "First, we want to make sure TensorFlow is installed in the Python (virtual) environment...\n",
        "\n",
        "-   TensorFlow Object Detection is now depracated\n",
        "-   TensorFlow Addons (for using TF-Vision) sunsets on May, 2024 and needs to be switched over to Keras, in which it should be accessible directly as long as TF is installed\n"
      ]
    },
    {
      "cell_type": "code",
      "execution_count": 12,
      "metadata": {
        "id": "S5BXth-cnCwW"
      },
      "outputs": [
        {
          "name": "stdout",
          "output_type": "stream",
          "text": [
            "Requirement already satisfied: pip in c:\\msys64\\mingw64\\lib\\python3.11\\site-packages (24.0)\n"
          ]
        },
        {
          "name": "stderr",
          "output_type": "stream",
          "text": [
            "ERROR: Could not find a version that satisfies the requirement tensorflow==2.* (from versions: none)\n",
            "ERROR: No matching distribution found for tensorflow==2.*\n",
            "ERROR: Could not find a version that satisfies the requirement tensorflow (from versions: none)\n",
            "ERROR: No matching distribution found for tensorflow\n"
          ]
        },
        {
          "name": "stdout",
          "output_type": "stream",
          "text": [
            "Collecting transformers\n",
            "  Downloading transformers-4.40.2-py3-none-any.whl.metadata (137 kB)\n",
            "     ---------------------------------------- 0.0/138.0 kB ? eta -:--:--\n",
            "     ------------------------------------ - 133.1/138.0 kB 4.0 MB/s eta 0:00:01\n",
            "     -------------------------------------- 138.0/138.0 kB 1.6 MB/s eta 0:00:00\n",
            "Collecting filelock (from transformers)\n",
            "  Downloading filelock-3.14.0-py3-none-any.whl.metadata (2.8 kB)\n",
            "Collecting huggingface-hub<1.0,>=0.19.3 (from transformers)\n",
            "  Downloading huggingface_hub-0.23.0-py3-none-any.whl.metadata (12 kB)\n",
            "Collecting numpy>=1.17 (from transformers)\n",
            "  Using cached numpy-1.26.4.tar.gz (15.8 MB)\n",
            "  Installing build dependencies: started\n",
            "  Installing build dependencies: finished with status 'done'\n",
            "  Getting requirements to build wheel: started\n",
            "  Getting requirements to build wheel: finished with status 'done'\n",
            "  Preparing metadata (pyproject.toml): started\n",
            "  Preparing metadata (pyproject.toml): finished with status 'error'\n"
          ]
        },
        {
          "name": "stderr",
          "output_type": "stream",
          "text": [
            "  error: subprocess-exited-with-error\n",
            "  \n",
            "  × Preparing metadata (pyproject.toml) did not run successfully.\n",
            "  │ exit code: 1\n",
            "  ╰─> [21 lines of output]\n",
            "      + C:\\msys64\\mingw64\\bin\\python.exe C:\\Users\\HidekiAI\\AppData\\Local\\Temp\\pip-install-kcdn_cnw\\numpy_f50b5d8092594736a60b6e062f10a0e7\\vendored-meson\\meson\\meson.py setup C:\\Users\\HidekiAI\\AppData\\Local\\Temp\\pip-install-kcdn_cnw\\numpy_f50b5d8092594736a60b6e062f10a0e7 C:\\Users\\HidekiAI\\AppData\\Local\\Temp\\pip-install-kcdn_cnw\\numpy_f50b5d8092594736a60b6e062f10a0e7\\.mesonpy-dnhry6fj -Dbuildtype=release -Db_ndebug=if-release -Db_vscrt=md --native-file=C:\\Users\\HidekiAI\\AppData\\Local\\Temp\\pip-install-kcdn_cnw\\numpy_f50b5d8092594736a60b6e062f10a0e7\\.mesonpy-dnhry6fj\\meson-python-native-file.ini\n",
            "      The Meson build system\n",
            "      Version: 1.2.99\n",
            "      Source dir: C:\\Users\\HidekiAI\\AppData\\Local\\Temp\\pip-install-kcdn_cnw\\numpy_f50b5d8092594736a60b6e062f10a0e7\n",
            "      Build dir: C:\\Users\\HidekiAI\\AppData\\Local\\Temp\\pip-install-kcdn_cnw\\numpy_f50b5d8092594736a60b6e062f10a0e7\\.mesonpy-dnhry6fj\n",
            "      Build type: native build\n",
            "      Project name: NumPy\n",
            "      Project version: 1.26.4\n",
            "      \n",
            "      ..\\meson.build:1:0: ERROR: Unable to detect GNU compiler type:\n",
            "      Compiler stdout:\n",
            "      \n",
            "      -----\n",
            "      Compiler stderr:\n",
            "      cc: fatal error: cannot execute 'cc1': CreateProcess: No such file or directory\n",
            "      compilation terminated.\n",
            "      \n",
            "      -----\n",
            "      \n",
            "      \n",
            "      A full log can be found at C:\\Users\\HidekiAI\\AppData\\Local\\Temp\\pip-install-kcdn_cnw\\numpy_f50b5d8092594736a60b6e062f10a0e7\\.mesonpy-dnhry6fj\\meson-logs\\meson-log.txt\n",
            "      [end of output]\n",
            "  \n",
            "  note: This error originates from a subprocess, and is likely not a problem with pip.\n",
            "error: metadata-generation-failed\n",
            "\n",
            "× Encountered error while generating package metadata.\n",
            "╰─> See above for output.\n",
            "\n",
            "note: This is an issue with the package mentioned above, not pip.\n",
            "hint: See above for details.\n"
          ]
        },
        {
          "name": "stdout",
          "output_type": "stream",
          "text": [
            "Collecting tf-models-official\n",
            "  Using cached tf_models_official-2.16.0-py2.py3-none-any.whl.metadata (1.4 kB)\n",
            "Collecting Cython (from tf-models-official)\n",
            "  Using cached Cython-3.0.10-py2.py3-none-any.whl.metadata (3.2 kB)\n",
            "Collecting Pillow (from tf-models-official)\n",
            "  Downloading pillow-10.3.0.tar.gz (46.6 MB)\n",
            "     ---------------------------------------- 0.0/46.6 MB ? eta -:--:--\n",
            "     ---------------------------------------- 0.0/46.6 MB ? eta -:--:--\n",
            "     ---------------------------------------- 0.0/46.6 MB ? eta -:--:--\n",
            "     ---------------------------------------- 0.0/46.6 MB ? eta -:--:--\n",
            "     ---------------------------------------- 0.0/46.6 MB 93.9 kB/s eta 0:08:16\n",
            "     --------------------------------------- 0.0/46.6 MB 131.3 kB/s eta 0:05:55\n",
            "     --------------------------------------- 0.0/46.6 MB 140.3 kB/s eta 0:05:32\n",
            "     --------------------------------------- 0.1/46.6 MB 385.0 kB/s eta 0:02:01\n",
            "     ---------------------------------------- 0.4/46.6 MB 1.2 MB/s eta 0:00:39\n",
            "      --------------------------------------- 1.0/46.6 MB 2.5 MB/s eta 0:00:19\n",
            "     - -------------------------------------- 1.4/46.6 MB 3.5 MB/s eta 0:00:13\n",
            "     - -------------------------------------- 2.0/46.6 MB 4.3 MB/s eta 0:00:11\n",
            "     -- ------------------------------------- 2.5/46.6 MB 4.9 MB/s eta 0:00:10\n",
            "     -- ------------------------------------- 3.1/46.6 MB 5.5 MB/s eta 0:00:08\n",
            "     --- ------------------------------------ 3.8/46.6 MB 6.1 MB/s eta 0:00:08\n",
            "     --- ------------------------------------ 4.4/46.6 MB 6.5 MB/s eta 0:00:07\n",
            "     ---- ----------------------------------- 4.9/46.6 MB 6.9 MB/s eta 0:00:06\n",
            "     ---- ----------------------------------- 5.5/46.6 MB 7.1 MB/s eta 0:00:06\n",
            "     ----- ---------------------------------- 6.2/46.6 MB 7.6 MB/s eta 0:00:06\n",
            "     ----- ---------------------------------- 6.8/46.6 MB 7.9 MB/s eta 0:00:06\n",
            "     ------ --------------------------------- 7.4/46.6 MB 8.1 MB/s eta 0:00:05\n",
            "     ------ --------------------------------- 8.1/46.6 MB 8.5 MB/s eta 0:00:05\n",
            "     ------- -------------------------------- 8.7/46.6 MB 8.7 MB/s eta 0:00:05\n",
            "     ------- -------------------------------- 9.3/46.6 MB 9.0 MB/s eta 0:00:05\n",
            "     -------- ------------------------------- 9.9/46.6 MB 9.0 MB/s eta 0:00:05\n",
            "     -------- ------------------------------ 10.5/46.6 MB 12.1 MB/s eta 0:00:03\n",
            "     --------- ----------------------------- 11.0/46.6 MB 12.3 MB/s eta 0:00:03\n",
            "     --------- ----------------------------- 11.6/46.6 MB 12.4 MB/s eta 0:00:03\n",
            "     ---------- ---------------------------- 12.3/46.6 MB 12.8 MB/s eta 0:00:03\n",
            "     ---------- ---------------------------- 12.9/46.6 MB 12.8 MB/s eta 0:00:03\n",
            "     ----------- --------------------------- 13.5/46.6 MB 12.8 MB/s eta 0:00:03\n",
            "     ----------- --------------------------- 14.1/46.6 MB 12.8 MB/s eta 0:00:03\n",
            "     ------------ -------------------------- 14.7/46.6 MB 12.8 MB/s eta 0:00:03\n",
            "     ------------ -------------------------- 15.4/46.6 MB 13.1 MB/s eta 0:00:03\n",
            "     ------------- ------------------------- 15.8/46.6 MB 12.8 MB/s eta 0:00:03\n",
            "     ------------- ------------------------- 16.6/46.6 MB 12.6 MB/s eta 0:00:03\n",
            "     -------------- ------------------------ 17.2/46.6 MB 12.6 MB/s eta 0:00:03\n",
            "     --------------- ----------------------- 18.0/46.6 MB 13.1 MB/s eta 0:00:03\n",
            "     --------------- ----------------------- 18.6/46.6 MB 12.8 MB/s eta 0:00:03\n",
            "     ---------------- ---------------------- 19.1/46.6 MB 12.8 MB/s eta 0:00:03\n",
            "     ---------------- ---------------------- 19.6/46.6 MB 12.8 MB/s eta 0:00:03\n",
            "     ----------------- --------------------- 20.4/46.6 MB 12.8 MB/s eta 0:00:03\n",
            "     ----------------- --------------------- 21.0/46.6 MB 12.8 MB/s eta 0:00:02\n",
            "     ------------------ -------------------- 21.6/46.6 MB 13.1 MB/s eta 0:00:02\n",
            "     ------------------ -------------------- 22.2/46.6 MB 13.4 MB/s eta 0:00:02\n",
            "     ------------------- ------------------- 22.9/46.6 MB 13.1 MB/s eta 0:00:02\n",
            "     ------------------- ------------------- 23.6/46.6 MB 13.1 MB/s eta 0:00:02\n",
            "     -------------------- ------------------ 24.1/46.6 MB 13.1 MB/s eta 0:00:02\n",
            "     -------------------- ------------------ 24.6/46.6 MB 13.1 MB/s eta 0:00:02\n",
            "     --------------------- ----------------- 25.2/46.6 MB 13.4 MB/s eta 0:00:02\n",
            "     --------------------- ----------------- 25.9/46.6 MB 13.4 MB/s eta 0:00:02\n",
            "     ---------------------- ---------------- 26.3/46.6 MB 13.4 MB/s eta 0:00:02\n",
            "     ---------------------- ---------------- 27.0/46.6 MB 13.1 MB/s eta 0:00:02\n",
            "     ----------------------- --------------- 27.6/46.6 MB 13.6 MB/s eta 0:00:02\n",
            "     ----------------------- --------------- 28.3/46.6 MB 13.1 MB/s eta 0:00:02\n",
            "     ------------------------ -------------- 28.9/46.6 MB 13.4 MB/s eta 0:00:02\n",
            "     ------------------------ -------------- 29.5/46.6 MB 13.1 MB/s eta 0:00:02\n",
            "     ------------------------- ------------- 30.1/46.6 MB 13.4 MB/s eta 0:00:02\n",
            "     ------------------------- ------------- 30.7/46.6 MB 13.1 MB/s eta 0:00:02\n",
            "     -------------------------- ------------ 31.3/46.6 MB 13.4 MB/s eta 0:00:02\n",
            "     -------------------------- ------------ 32.0/46.6 MB 13.1 MB/s eta 0:00:02\n",
            "     --------------------------- ----------- 32.7/46.6 MB 13.4 MB/s eta 0:00:02\n",
            "     --------------------------- ----------- 33.3/46.6 MB 13.1 MB/s eta 0:00:02\n",
            "     ---------------------------- ---------- 34.0/46.6 MB 13.1 MB/s eta 0:00:01\n",
            "     ----------------------------- --------- 34.7/46.6 MB 13.4 MB/s eta 0:00:01\n",
            "     ----------------------------- --------- 35.3/46.6 MB 13.1 MB/s eta 0:00:01\n",
            "     ------------------------------ -------- 36.1/46.6 MB 13.1 MB/s eta 0:00:01\n",
            "     ------------------------------ -------- 36.7/46.6 MB 13.1 MB/s eta 0:00:01\n",
            "     ------------------------------- ------- 37.3/46.6 MB 13.4 MB/s eta 0:00:01\n",
            "     ------------------------------- ------- 37.8/46.6 MB 12.9 MB/s eta 0:00:01\n",
            "     -------------------------------- ------ 38.4/46.6 MB 13.1 MB/s eta 0:00:01\n",
            "     -------------------------------- ------ 39.0/46.6 MB 13.1 MB/s eta 0:00:01\n",
            "     --------------------------------- ----- 39.7/46.6 MB 13.4 MB/s eta 0:00:01\n",
            "     --------------------------------- ----- 40.3/46.6 MB 13.1 MB/s eta 0:00:01\n",
            "     ---------------------------------- ---- 41.0/46.6 MB 13.4 MB/s eta 0:00:01\n",
            "     ---------------------------------- ---- 41.4/46.6 MB 13.1 MB/s eta 0:00:01\n",
            "     ----------------------------------- --- 42.1/46.6 MB 13.1 MB/s eta 0:00:01\n",
            "     ----------------------------------- --- 42.6/46.6 MB 12.9 MB/s eta 0:00:01\n",
            "     ------------------------------------ -- 43.3/46.6 MB 13.1 MB/s eta 0:00:01\n",
            "     ------------------------------------ -- 43.9/46.6 MB 13.1 MB/s eta 0:00:01\n",
            "     ------------------------------------- - 44.7/46.6 MB 13.1 MB/s eta 0:00:01\n",
            "     ------------------------------------- - 45.2/46.6 MB 12.8 MB/s eta 0:00:01\n",
            "     --------------------------------------  45.9/46.6 MB 13.1 MB/s eta 0:00:01\n",
            "     --------------------------------------  46.5/46.6 MB 12.8 MB/s eta 0:00:01\n",
            "     --------------------------------------  46.6/46.6 MB 12.6 MB/s eta 0:00:01\n",
            "     --------------------------------------  46.6/46.6 MB 12.6 MB/s eta 0:00:01\n",
            "     --------------------------------------  46.6/46.6 MB 12.6 MB/s eta 0:00:01\n",
            "     --------------------------------------  46.6/46.6 MB 12.6 MB/s eta 0:00:01\n",
            "     --------------------------------------- 46.6/46.6 MB 10.2 MB/s eta 0:00:00\n",
            "  Installing build dependencies: started\n",
            "  Installing build dependencies: finished with status 'done'\n",
            "  Getting requirements to build wheel: started\n",
            "  Getting requirements to build wheel: finished with status 'done'\n",
            "  Installing backend dependencies: started\n",
            "  Installing backend dependencies: finished with status 'done'\n",
            "  Preparing metadata (pyproject.toml): started\n",
            "  Preparing metadata (pyproject.toml): finished with status 'done'\n",
            "Collecting gin-config (from tf-models-official)\n",
            "  Using cached gin_config-0.5.0-py3-none-any.whl.metadata (2.9 kB)\n",
            "Collecting google-api-python-client>=1.6.7 (from tf-models-official)\n",
            "  Using cached google_api_python_client-2.129.0-py2.py3-none-any.whl.metadata (6.7 kB)\n",
            "Collecting immutabledict (from tf-models-official)\n",
            "  Using cached immutabledict-4.2.0-py3-none-any.whl.metadata (3.4 kB)\n",
            "Collecting kaggle>=1.3.9 (from tf-models-official)\n",
            "  Using cached kaggle-1.6.12.tar.gz (79 kB)\n",
            "  Installing build dependencies: started\n",
            "  Installing build dependencies: finished with status 'done'\n",
            "  Getting requirements to build wheel: started\n",
            "  Getting requirements to build wheel: finished with status 'done'\n",
            "  Installing backend dependencies: started\n",
            "  Installing backend dependencies: finished with status 'done'\n",
            "  Preparing metadata (pyproject.toml): started\n",
            "  Preparing metadata (pyproject.toml): finished with status 'done'\n",
            "Collecting matplotlib (from tf-models-official)\n",
            "  Downloading matplotlib-3.8.4.tar.gz (35.9 MB)\n",
            "     ---------------------------------------- 0.0/35.9 MB ? eta -:--:--\n",
            "      --------------------------------------- 0.7/35.9 MB 13.9 MB/s eta 0:00:03\n",
            "     - -------------------------------------- 1.3/35.9 MB 13.8 MB/s eta 0:00:03\n",
            "     -- ------------------------------------- 2.0/35.9 MB 12.6 MB/s eta 0:00:03\n",
            "     -- ------------------------------------- 2.6/35.9 MB 12.6 MB/s eta 0:00:03\n",
            "     --- ------------------------------------ 3.1/35.9 MB 13.2 MB/s eta 0:00:03\n",
            "     ---- ----------------------------------- 3.7/35.9 MB 13.2 MB/s eta 0:00:03\n",
            "     ---- ----------------------------------- 4.3/35.9 MB 13.1 MB/s eta 0:00:03\n",
            "     ----- ---------------------------------- 4.9/35.9 MB 12.6 MB/s eta 0:00:03\n",
            "     ------ --------------------------------- 5.7/35.9 MB 13.1 MB/s eta 0:00:03\n",
            "     ------- -------------------------------- 6.3/35.9 MB 13.0 MB/s eta 0:00:03\n",
            "     ------- -------------------------------- 7.0/35.9 MB 13.1 MB/s eta 0:00:03\n",
            "     -------- ------------------------------- 7.7/35.9 MB 12.9 MB/s eta 0:00:03\n",
            "     --------- ------------------------------ 8.3/35.9 MB 12.9 MB/s eta 0:00:03\n",
            "     --------- ------------------------------ 8.9/35.9 MB 13.0 MB/s eta 0:00:03\n",
            "     ---------- ----------------------------- 9.6/35.9 MB 13.1 MB/s eta 0:00:03\n",
            "     ----------- --------------------------- 10.3/35.9 MB 13.1 MB/s eta 0:00:02\n",
            "     ----------- --------------------------- 10.9/35.9 MB 13.1 MB/s eta 0:00:02\n",
            "     ------------ -------------------------- 11.3/35.9 MB 12.8 MB/s eta 0:00:02\n",
            "     ------------ -------------------------- 12.0/35.9 MB 13.4 MB/s eta 0:00:02\n",
            "     ------------- ------------------------- 12.6/35.9 MB 13.1 MB/s eta 0:00:02\n",
            "     -------------- ------------------------ 13.1/35.9 MB 13.1 MB/s eta 0:00:02\n",
            "     -------------- ------------------------ 13.7/35.9 MB 13.1 MB/s eta 0:00:02\n",
            "     --------------- ----------------------- 14.2/35.9 MB 12.8 MB/s eta 0:00:02\n",
            "     --------------- ----------------------- 14.7/35.9 MB 12.8 MB/s eta 0:00:02\n",
            "     ---------------- ---------------------- 15.3/35.9 MB 13.1 MB/s eta 0:00:02\n",
            "     ----------------- --------------------- 16.1/35.9 MB 13.1 MB/s eta 0:00:02\n",
            "     ------------------ -------------------- 16.8/35.9 MB 13.4 MB/s eta 0:00:02\n",
            "     ------------------ -------------------- 17.5/35.9 MB 12.8 MB/s eta 0:00:02\n",
            "     ------------------- ------------------- 18.1/35.9 MB 13.1 MB/s eta 0:00:02\n",
            "     -------------------- ------------------ 18.7/35.9 MB 12.9 MB/s eta 0:00:02\n",
            "     --------------------- ----------------- 19.4/35.9 MB 13.1 MB/s eta 0:00:02\n",
            "     --------------------- ----------------- 20.2/35.9 MB 13.1 MB/s eta 0:00:02\n",
            "     ---------------------- ---------------- 20.8/35.9 MB 13.4 MB/s eta 0:00:02\n",
            "     ----------------------- --------------- 21.4/35.9 MB 13.1 MB/s eta 0:00:02\n",
            "     ------------------------ -------------- 22.6/35.9 MB 13.4 MB/s eta 0:00:02\n",
            "     ------------------------- ------------- 23.1/35.9 MB 12.8 MB/s eta 0:00:02\n",
            "     ------------------------- ------------- 23.9/35.9 MB 13.1 MB/s eta 0:00:01\n",
            "     -------------------------- ------------ 24.5/35.9 MB 13.6 MB/s eta 0:00:01\n",
            "     --------------------------- ----------- 25.0/35.9 MB 13.1 MB/s eta 0:00:01\n",
            "     --------------------------- ----------- 25.7/35.9 MB 13.4 MB/s eta 0:00:01\n",
            "     ---------------------------- ---------- 26.3/35.9 MB 13.1 MB/s eta 0:00:01\n",
            "     ----------------------------- --------- 27.0/35.9 MB 13.1 MB/s eta 0:00:01\n",
            "     ----------------------------- --------- 27.6/35.9 MB 12.8 MB/s eta 0:00:01\n",
            "     ------------------------------ -------- 28.2/35.9 MB 12.8 MB/s eta 0:00:01\n",
            "     ------------------------------- ------- 28.9/35.9 MB 12.8 MB/s eta 0:00:01\n",
            "     ------------------------------- ------- 29.4/35.9 MB 12.6 MB/s eta 0:00:01\n",
            "     -------------------------------- ------ 29.8/35.9 MB 12.6 MB/s eta 0:00:01\n",
            "     -------------------------------- ------ 30.4/35.9 MB 12.8 MB/s eta 0:00:01\n",
            "     --------------------------------- ----- 31.1/35.9 MB 12.8 MB/s eta 0:00:01\n",
            "     ---------------------------------- ---- 31.8/35.9 MB 13.1 MB/s eta 0:00:01\n",
            "     ----------------------------------- --- 32.4/35.9 MB 12.6 MB/s eta 0:00:01\n",
            "     ----------------------------------- --- 33.0/35.9 MB 12.8 MB/s eta 0:00:01\n",
            "     ------------------------------------ -- 33.6/35.9 MB 12.8 MB/s eta 0:00:01\n",
            "     ------------------------------------- - 34.2/35.9 MB 12.6 MB/s eta 0:00:01\n",
            "     ------------------------------------- - 34.9/35.9 MB 12.9 MB/s eta 0:00:01\n",
            "     --------------------------------------  35.6/35.9 MB 12.8 MB/s eta 0:00:01\n",
            "     --------------------------------------  35.9/35.9 MB 12.8 MB/s eta 0:00:01\n",
            "     --------------------------------------  35.9/35.9 MB 12.8 MB/s eta 0:00:01\n",
            "     --------------------------------------  35.9/35.9 MB 12.8 MB/s eta 0:00:01\n",
            "     --------------------------------------  35.9/35.9 MB 12.8 MB/s eta 0:00:01\n",
            "     --------------------------------------- 35.9/35.9 MB 10.6 MB/s eta 0:00:00\n",
            "  Installing build dependencies: started\n",
            "  Installing build dependencies: finished with status 'error'\n"
          ]
        },
        {
          "name": "stderr",
          "output_type": "stream",
          "text": [
            "  error: subprocess-exited-with-error\n",
            "  \n",
            "  × pip subprocess to install build dependencies did not run successfully.\n",
            "  │ exit code: 1\n",
            "  ╰─> [92 lines of output]\n",
            "      Collecting certifi>=2020.06.20\n",
            "        Using cached certifi-2024.2.2-py3-none-any.whl.metadata (2.2 kB)\n",
            "      Collecting pybind11>=2.6\n",
            "        Downloading pybind11-2.12.0-py3-none-any.whl.metadata (9.5 kB)\n",
            "      Collecting setuptools>=64\n",
            "        Using cached setuptools-69.5.1-py3-none-any.whl.metadata (6.2 kB)\n",
            "      Collecting setuptools_scm>=7\n",
            "        Using cached setuptools_scm-8.1.0-py3-none-any.whl.metadata (6.6 kB)\n",
            "      Collecting numpy<2.3,>=2.0.0rc1\n",
            "        Downloading numpy-2.0.0rc2.tar.gz (18.3 MB)\n",
            "           ---------------------------------------- 0.0/18.3 MB ? eta -:--:--\n",
            "           ---------------------------------------- 0.0/18.3 MB ? eta -:--:--\n",
            "           ---------------------------------------- 0.0/18.3 MB ? eta -:--:--\n",
            "           ---------------------------------------- 0.0/18.3 MB ? eta -:--:--\n",
            "           --------------------------------------- 0.0/18.3 MB 279.3 kB/s eta 0:01:06\n",
            "           --------------------------------------- 0.1/18.3 MB 652.2 kB/s eta 0:00:28\n",
            "            --------------------------------------- 0.5/18.3 MB 2.2 MB/s eta 0:00:09\n",
            "           -- ------------------------------------- 1.0/18.3 MB 4.1 MB/s eta 0:00:05\n",
            "           --- ------------------------------------ 1.6/18.3 MB 5.2 MB/s eta 0:00:04\n",
            "           ---- ----------------------------------- 2.2/18.3 MB 6.3 MB/s eta 0:00:03\n",
            "           ----- ---------------------------------- 2.6/18.3 MB 7.0 MB/s eta 0:00:03\n",
            "           ------ --------------------------------- 3.0/18.3 MB 7.2 MB/s eta 0:00:03\n",
            "           ------- -------------------------------- 3.6/18.3 MB 7.7 MB/s eta 0:00:02\n",
            "           --------- ------------------------------ 4.2/18.3 MB 8.2 MB/s eta 0:00:02\n",
            "           ---------- ----------------------------- 4.9/18.3 MB 8.7 MB/s eta 0:00:02\n",
            "           ------------ --------------------------- 5.5/18.3 MB 8.8 MB/s eta 0:00:02\n",
            "           ------------- -------------------------- 6.1/18.3 MB 9.1 MB/s eta 0:00:02\n",
            "           -------------- ------------------------- 6.8/18.3 MB 9.4 MB/s eta 0:00:02\n",
            "           ---------------- ----------------------- 7.5/18.3 MB 9.7 MB/s eta 0:00:02\n",
            "           ----------------- ---------------------- 8.0/18.3 MB 9.8 MB/s eta 0:00:02\n",
            "           ------------------ --------------------- 8.6/18.3 MB 10.0 MB/s eta 0:00:01\n",
            "           -------------------- ------------------- 9.2/18.3 MB 10.3 MB/s eta 0:00:01\n",
            "           --------------------- ------------------ 9.8/18.3 MB 10.3 MB/s eta 0:00:01\n",
            "           ---------------------- ---------------- 10.4/18.3 MB 12.4 MB/s eta 0:00:01\n",
            "           ----------------------- --------------- 11.2/18.3 MB 12.8 MB/s eta 0:00:01\n",
            "           ------------------------ -------------- 11.7/18.3 MB 12.8 MB/s eta 0:00:01\n",
            "           -------------------------- ------------ 12.5/18.3 MB 12.8 MB/s eta 0:00:01\n",
            "           ---------------------------- ---------- 13.2/18.3 MB 13.4 MB/s eta 0:00:01\n",
            "           ---------------------------- ---------- 13.6/18.3 MB 13.1 MB/s eta 0:00:01\n",
            "           ------------------------------ -------- 14.4/18.3 MB 13.1 MB/s eta 0:00:01\n",
            "           -------------------------------- ------ 15.1/18.3 MB 13.1 MB/s eta 0:00:01\n",
            "           --------------------------------- ----- 15.7/18.3 MB 13.1 MB/s eta 0:00:01\n",
            "           ---------------------------------- ---- 16.2/18.3 MB 13.1 MB/s eta 0:00:01\n",
            "           ----------------------------------- --- 16.8/18.3 MB 13.1 MB/s eta 0:00:01\n",
            "           ------------------------------------ -- 17.0/18.3 MB 13.1 MB/s eta 0:00:01\n",
            "           ------------------------------------- - 17.8/18.3 MB 13.1 MB/s eta 0:00:01\n",
            "           --------------------------------------  18.3/18.3 MB 12.8 MB/s eta 0:00:01\n",
            "           --------------------------------------  18.3/18.3 MB 12.8 MB/s eta 0:00:01\n",
            "           --------------------------------------  18.3/18.3 MB 12.8 MB/s eta 0:00:01\n",
            "           --------------------------------------- 18.3/18.3 MB 11.3 MB/s eta 0:00:00\n",
            "        Installing build dependencies: started\n",
            "        Installing build dependencies: finished with status 'done'\n",
            "        Getting requirements to build wheel: started\n",
            "        Getting requirements to build wheel: finished with status 'done'\n",
            "        Preparing metadata (pyproject.toml): started\n",
            "        Preparing metadata (pyproject.toml): finished with status 'error'\n",
            "        error: subprocess-exited-with-error\n",
            "      \n",
            "        Ã— Preparing metadata (pyproject.toml) did not run successfully.\n",
            "        â”‚ exit code: 1\n",
            "        â•°â”€> [21 lines of output]\n",
            "            + C:\\msys64\\mingw64\\bin\\python.exe C:\\Users\\HidekiAI\\AppData\\Local\\Temp\\pip-install-u0lzde8b\\numpy_4ee7faff3f0843139b1feb86aae61906\\vendored-meson\\meson\\meson.py setup C:\\Users\\HidekiAI\\AppData\\Local\\Temp\\pip-install-u0lzde8b\\numpy_4ee7faff3f0843139b1feb86aae61906 C:\\Users\\HidekiAI\\AppData\\Local\\Temp\\pip-install-u0lzde8b\\numpy_4ee7faff3f0843139b1feb86aae61906\\.mesonpy-pt60agd_ -Dbuildtype=release -Db_ndebug=if-release -Db_vscrt=md --native-file=C:\\Users\\HidekiAI\\AppData\\Local\\Temp\\pip-install-u0lzde8b\\numpy_4ee7faff3f0843139b1feb86aae61906\\.mesonpy-pt60agd_\\meson-python-native-file.ini\n",
            "            The Meson build system\n",
            "            Version: 1.2.99\n",
            "            Source dir: C:\\Users\\HidekiAI\\AppData\\Local\\Temp\\pip-install-u0lzde8b\\numpy_4ee7faff3f0843139b1feb86aae61906\n",
            "            Build dir: C:\\Users\\HidekiAI\\AppData\\Local\\Temp\\pip-install-u0lzde8b\\numpy_4ee7faff3f0843139b1feb86aae61906\\.mesonpy-pt60agd_\n",
            "            Build type: native build\n",
            "            Project name: NumPy\n",
            "            Project version: 2.0.0rc2\n",
            "      \n",
            "            ..\\meson.build:1:0: ERROR: Unable to detect GNU compiler type:\n",
            "            Compiler stdout:\n",
            "      \n",
            "            -----\n",
            "            Compiler stderr:\n",
            "            cc: fatal error: cannot execute 'cc1': CreateProcess: No such file or directory\n",
            "            compilation terminated.\n",
            "      \n",
            "            -----\n",
            "      \n",
            "      \n",
            "            A full log can be found at C:\\Users\\HidekiAI\\AppData\\Local\\Temp\\pip-install-u0lzde8b\\numpy_4ee7faff3f0843139b1feb86aae61906\\.mesonpy-pt60agd_\\meson-logs\\meson-log.txt\n",
            "            [end of output]\n",
            "      \n",
            "        note: This error originates from a subprocess, and is likely not a problem with pip.\n",
            "      error: metadata-generation-failed\n",
            "      \n",
            "      Ã— Encountered error while generating package metadata.\n",
            "      â•°â”€> See above for output.\n",
            "      \n",
            "      note: This is an issue with the package mentioned above, not pip.\n",
            "      hint: See above for details.\n",
            "      [end of output]\n",
            "  \n",
            "  note: This error originates from a subprocess, and is likely not a problem with pip.\n",
            "error: subprocess-exited-with-error\n",
            "\n",
            "× pip subprocess to install build dependencies did not run successfully.\n",
            "│ exit code: 1\n",
            "╰─> See above for output.\n",
            "\n",
            "note: This error originates from a subprocess, and is likely not a problem with pip.\n"
          ]
        },
        {
          "name": "stdout",
          "output_type": "stream",
          "text": [
            "Collecting tf-keras-vis\n",
            "  Using cached tf_keras_vis-0.8.7-py3-none-any.whl.metadata (10 kB)\n",
            "Collecting scipy (from tf-keras-vis)\n",
            "  Downloading scipy-1.13.0.tar.gz (57.2 MB)\n",
            "     ---------------------------------------- 0.0/57.2 MB ? eta -:--:--\n",
            "     ---------------------------------------- 0.2/57.2 MB 4.4 MB/s eta 0:00:14\n",
            "      --------------------------------------- 0.7/57.2 MB 7.6 MB/s eta 0:00:08\n",
            "      --------------------------------------- 1.1/57.2 MB 8.4 MB/s eta 0:00:07\n",
            "     - -------------------------------------- 1.7/57.2 MB 9.8 MB/s eta 0:00:06\n",
            "     - -------------------------------------- 2.1/57.2 MB 9.5 MB/s eta 0:00:06\n",
            "     - -------------------------------------- 2.8/57.2 MB 10.5 MB/s eta 0:00:06\n",
            "     -- ------------------------------------- 3.4/57.2 MB 11.0 MB/s eta 0:00:05\n",
            "     -- ------------------------------------- 4.2/57.2 MB 11.6 MB/s eta 0:00:05\n",
            "     --- ------------------------------------ 4.8/57.2 MB 11.9 MB/s eta 0:00:05\n",
            "     --- ------------------------------------ 5.5/57.2 MB 11.7 MB/s eta 0:00:05\n",
            "     ---- ----------------------------------- 6.1/57.2 MB 11.9 MB/s eta 0:00:05\n",
            "     ---- ----------------------------------- 6.8/57.2 MB 12.0 MB/s eta 0:00:05\n",
            "     ----- ---------------------------------- 7.4/57.2 MB 12.1 MB/s eta 0:00:05\n",
            "     ----- ---------------------------------- 8.1/57.2 MB 12.3 MB/s eta 0:00:04\n",
            "     ------ --------------------------------- 8.6/57.2 MB 12.3 MB/s eta 0:00:04\n",
            "     ------ --------------------------------- 9.2/57.2 MB 12.2 MB/s eta 0:00:04\n",
            "     ------ --------------------------------- 9.8/57.2 MB 12.3 MB/s eta 0:00:04\n",
            "     ------- ------------------------------- 10.5/57.2 MB 13.1 MB/s eta 0:00:04\n",
            "     ------- ------------------------------- 11.2/57.2 MB 13.1 MB/s eta 0:00:04\n",
            "     -------- ------------------------------ 11.8/57.2 MB 12.8 MB/s eta 0:00:04\n",
            "     -------- ------------------------------ 12.5/57.2 MB 13.4 MB/s eta 0:00:04\n",
            "     -------- ------------------------------ 13.1/57.2 MB 13.4 MB/s eta 0:00:04\n",
            "     --------- ----------------------------- 13.8/57.2 MB 13.4 MB/s eta 0:00:04\n",
            "     --------- ----------------------------- 14.3/57.2 MB 13.1 MB/s eta 0:00:04\n",
            "     ---------- ---------------------------- 14.9/57.2 MB 13.1 MB/s eta 0:00:04\n",
            "     ---------- ---------------------------- 15.5/57.2 MB 13.1 MB/s eta 0:00:04\n",
            "     ---------- ---------------------------- 16.0/57.2 MB 13.1 MB/s eta 0:00:04\n",
            "     ----------- --------------------------- 16.7/57.2 MB 13.4 MB/s eta 0:00:04\n",
            "     ----------- --------------------------- 17.4/57.2 MB 13.1 MB/s eta 0:00:04\n",
            "     ------------ -------------------------- 18.0/57.2 MB 13.1 MB/s eta 0:00:03\n",
            "     ------------ -------------------------- 18.6/57.2 MB 13.4 MB/s eta 0:00:03\n",
            "     ------------ -------------------------- 19.0/57.2 MB 13.1 MB/s eta 0:00:03\n",
            "     ------------- ------------------------- 19.5/57.2 MB 13.4 MB/s eta 0:00:03\n",
            "     ------------- ------------------------- 20.2/57.2 MB 13.1 MB/s eta 0:00:03\n",
            "     -------------- ------------------------ 20.8/57.2 MB 13.4 MB/s eta 0:00:03\n",
            "     -------------- ------------------------ 21.5/57.2 MB 13.1 MB/s eta 0:00:03\n",
            "     --------------- ----------------------- 22.1/57.2 MB 13.1 MB/s eta 0:00:03\n",
            "     --------------- ----------------------- 22.6/57.2 MB 12.8 MB/s eta 0:00:03\n",
            "     --------------- ----------------------- 23.2/57.2 MB 13.1 MB/s eta 0:00:03\n",
            "     ---------------- ---------------------- 23.7/57.2 MB 13.1 MB/s eta 0:00:03\n",
            "     ---------------- ---------------------- 24.3/57.2 MB 12.8 MB/s eta 0:00:03\n",
            "     ---------------- ---------------------- 24.9/57.2 MB 13.1 MB/s eta 0:00:03\n",
            "     ----------------- --------------------- 25.5/57.2 MB 12.8 MB/s eta 0:00:03\n",
            "     ----------------- --------------------- 26.4/57.2 MB 13.1 MB/s eta 0:00:03\n",
            "     ------------------ -------------------- 27.1/57.2 MB 13.1 MB/s eta 0:00:03\n",
            "     ------------------ -------------------- 27.8/57.2 MB 13.1 MB/s eta 0:00:03\n",
            "     ------------------- ------------------- 28.5/57.2 MB 13.1 MB/s eta 0:00:03\n",
            "     ------------------- ------------------- 29.1/57.2 MB 13.4 MB/s eta 0:00:03\n",
            "     -------------------- ------------------ 29.7/57.2 MB 13.4 MB/s eta 0:00:03\n",
            "     -------------------- ------------------ 30.4/57.2 MB 13.4 MB/s eta 0:00:03\n",
            "     --------------------- ----------------- 31.0/57.2 MB 13.1 MB/s eta 0:00:03\n",
            "     --------------------- ----------------- 31.8/57.2 MB 13.1 MB/s eta 0:00:02\n",
            "     ---------------------- ---------------- 32.4/57.2 MB 13.4 MB/s eta 0:00:02\n",
            "     ---------------------- ---------------- 33.1/57.2 MB 13.1 MB/s eta 0:00:02\n",
            "     ---------------------- ---------------- 33.6/57.2 MB 13.1 MB/s eta 0:00:02\n",
            "     ----------------------- --------------- 34.3/57.2 MB 13.6 MB/s eta 0:00:02\n",
            "     ------------------------ -------------- 35.2/57.2 MB 13.4 MB/s eta 0:00:02\n",
            "     ------------------------ -------------- 35.8/57.2 MB 13.4 MB/s eta 0:00:02\n",
            "     ------------------------- ------------- 36.7/57.2 MB 13.4 MB/s eta 0:00:02\n",
            "     ------------------------- ------------- 37.3/57.2 MB 13.4 MB/s eta 0:00:02\n",
            "     ------------------------- ------------- 37.8/57.2 MB 13.1 MB/s eta 0:00:02\n",
            "     -------------------------- ------------ 38.3/57.2 MB 13.1 MB/s eta 0:00:02\n",
            "     -------------------------- ------------ 38.9/57.2 MB 13.1 MB/s eta 0:00:02\n",
            "     -------------------------- ------------ 39.5/57.2 MB 13.1 MB/s eta 0:00:02\n",
            "     --------------------------- ----------- 40.1/57.2 MB 13.4 MB/s eta 0:00:02\n",
            "     --------------------------- ----------- 40.8/57.2 MB 13.4 MB/s eta 0:00:02\n",
            "     ---------------------------- ---------- 41.3/57.2 MB 13.4 MB/s eta 0:00:02\n",
            "     ---------------------------- ---------- 41.8/57.2 MB 13.4 MB/s eta 0:00:02\n",
            "     ---------------------------- ---------- 42.5/57.2 MB 13.4 MB/s eta 0:00:02\n",
            "     ----------------------------- --------- 43.2/57.2 MB 13.1 MB/s eta 0:00:02\n",
            "     ----------------------------- --------- 43.7/57.2 MB 12.8 MB/s eta 0:00:02\n",
            "     ------------------------------ -------- 44.1/57.2 MB 12.8 MB/s eta 0:00:02\n",
            "     ------------------------------ -------- 44.7/57.2 MB 12.9 MB/s eta 0:00:01\n",
            "     ------------------------------ -------- 45.3/57.2 MB 12.8 MB/s eta 0:00:01\n",
            "     ------------------------------- ------- 45.9/57.2 MB 12.8 MB/s eta 0:00:01\n",
            "     ------------------------------- ------- 46.4/57.2 MB 12.8 MB/s eta 0:00:01\n",
            "     -------------------------------- ------ 47.2/57.2 MB 12.8 MB/s eta 0:00:01\n",
            "     -------------------------------- ------ 47.7/57.2 MB 12.6 MB/s eta 0:00:01\n",
            "     --------------------------------- ----- 48.4/57.2 MB 12.6 MB/s eta 0:00:01\n",
            "     --------------------------------- ----- 49.0/57.2 MB 12.6 MB/s eta 0:00:01\n",
            "     --------------------------------- ----- 49.5/57.2 MB 12.6 MB/s eta 0:00:01\n",
            "     ---------------------------------- ---- 50.2/57.2 MB 12.6 MB/s eta 0:00:01\n",
            "     ---------------------------------- ---- 50.9/57.2 MB 12.6 MB/s eta 0:00:01\n",
            "     ----------------------------------- --- 51.4/57.2 MB 12.8 MB/s eta 0:00:01\n",
            "     ----------------------------------- --- 51.9/57.2 MB 12.6 MB/s eta 0:00:01\n",
            "     ----------------------------------- --- 52.7/57.2 MB 13.1 MB/s eta 0:00:01\n",
            "     ------------------------------------ -- 53.3/57.2 MB 12.8 MB/s eta 0:00:01\n",
            "     ------------------------------------ -- 54.0/57.2 MB 12.8 MB/s eta 0:00:01\n",
            "     ------------------------------------- - 54.6/57.2 MB 13.1 MB/s eta 0:00:01\n",
            "     ------------------------------------- - 55.3/57.2 MB 13.4 MB/s eta 0:00:01\n",
            "     --------------------------------------  55.9/57.2 MB 12.8 MB/s eta 0:00:01\n",
            "     --------------------------------------  56.7/57.2 MB 13.4 MB/s eta 0:00:01\n",
            "     --------------------------------------  57.1/57.2 MB 13.1 MB/s eta 0:00:01\n",
            "     --------------------------------------  57.2/57.2 MB 12.8 MB/s eta 0:00:01\n",
            "     --------------------------------------  57.2/57.2 MB 12.8 MB/s eta 0:00:01\n",
            "     --------------------------------------  57.2/57.2 MB 12.8 MB/s eta 0:00:01\n",
            "     --------------------------------------  57.2/57.2 MB 12.8 MB/s eta 0:00:01\n",
            "     ---------------------------------------- 57.2/57.2 MB 9.9 MB/s eta 0:00:00\n",
            "  Installing build dependencies: started\n",
            "  Installing build dependencies: still running...\n",
            "  Installing build dependencies: finished with status 'error'\n"
          ]
        },
        {
          "name": "stderr",
          "output_type": "stream",
          "text": [
            "  error: subprocess-exited-with-error\n",
            "  \n",
            "  × pip subprocess to install build dependencies did not run successfully.\n",
            "  │ exit code: 1\n",
            "  ╰─> [52 lines of output]\n",
            "      Collecting meson-python<0.18.0,>=0.15.0\n",
            "        Using cached meson_python-0.16.0-py3-none-any.whl.metadata (4.1 kB)\n",
            "      Collecting Cython<3.1.0,>=3.0.8\n",
            "        Using cached Cython-3.0.10-py2.py3-none-any.whl.metadata (3.2 kB)\n",
            "      Collecting pybind11<2.13.0,>=2.12.0\n",
            "        Using cached pybind11-2.12.0-py3-none-any.whl.metadata (9.5 kB)\n",
            "      Collecting pythran<0.16.0,>=0.14.0\n",
            "        Downloading pythran-0.15.0-py3-none-any.whl.metadata (7.8 kB)\n",
            "      Collecting numpy<2.3,>=2.0.0rc1\n",
            "        Using cached numpy-2.0.0rc2.tar.gz (18.3 MB)\n",
            "        Installing build dependencies: started\n",
            "        Installing build dependencies: finished with status 'done'\n",
            "        Getting requirements to build wheel: started\n",
            "        Getting requirements to build wheel: finished with status 'done'\n",
            "        Preparing metadata (pyproject.toml): started\n",
            "        Preparing metadata (pyproject.toml): finished with status 'error'\n",
            "        error: subprocess-exited-with-error\n",
            "      \n",
            "        Ã— Preparing metadata (pyproject.toml) did not run successfully.\n",
            "        â”‚ exit code: 1\n",
            "        â•°â”€> [21 lines of output]\n",
            "            + C:\\msys64\\mingw64\\bin\\python.exe C:\\Users\\HidekiAI\\AppData\\Local\\Temp\\pip-install-o5uhhay6\\numpy_14f36b5afc9a4da889e5a7a9cc2d7d4c\\vendored-meson\\meson\\meson.py setup C:\\Users\\HidekiAI\\AppData\\Local\\Temp\\pip-install-o5uhhay6\\numpy_14f36b5afc9a4da889e5a7a9cc2d7d4c C:\\Users\\HidekiAI\\AppData\\Local\\Temp\\pip-install-o5uhhay6\\numpy_14f36b5afc9a4da889e5a7a9cc2d7d4c\\.mesonpy-oz92hi8_ -Dbuildtype=release -Db_ndebug=if-release -Db_vscrt=md --native-file=C:\\Users\\HidekiAI\\AppData\\Local\\Temp\\pip-install-o5uhhay6\\numpy_14f36b5afc9a4da889e5a7a9cc2d7d4c\\.mesonpy-oz92hi8_\\meson-python-native-file.ini\n",
            "            The Meson build system\n",
            "            Version: 1.2.99\n",
            "            Source dir: C:\\Users\\HidekiAI\\AppData\\Local\\Temp\\pip-install-o5uhhay6\\numpy_14f36b5afc9a4da889e5a7a9cc2d7d4c\n",
            "            Build dir: C:\\Users\\HidekiAI\\AppData\\Local\\Temp\\pip-install-o5uhhay6\\numpy_14f36b5afc9a4da889e5a7a9cc2d7d4c\\.mesonpy-oz92hi8_\n",
            "            Build type: native build\n",
            "            Project name: NumPy\n",
            "            Project version: 2.0.0rc2\n",
            "      \n",
            "            ..\\meson.build:1:0: ERROR: Unable to detect GNU compiler type:\n",
            "            Compiler stdout:\n",
            "      \n",
            "            -----\n",
            "            Compiler stderr:\n",
            "            cc: fatal error: cannot execute 'cc1': CreateProcess: No such file or directory\n",
            "            compilation terminated.\n",
            "      \n",
            "            -----\n",
            "      \n",
            "      \n",
            "            A full log can be found at C:\\Users\\HidekiAI\\AppData\\Local\\Temp\\pip-install-o5uhhay6\\numpy_14f36b5afc9a4da889e5a7a9cc2d7d4c\\.mesonpy-oz92hi8_\\meson-logs\\meson-log.txt\n",
            "            [end of output]\n",
            "      \n",
            "        note: This error originates from a subprocess, and is likely not a problem with pip.\n",
            "      error: metadata-generation-failed\n",
            "      \n",
            "      Ã— Encountered error while generating package metadata.\n",
            "      â•°â”€> See above for output.\n",
            "      \n",
            "      note: This is an issue with the package mentioned above, not pip.\n",
            "      hint: See above for details.\n",
            "      [end of output]\n",
            "  \n",
            "  note: This error originates from a subprocess, and is likely not a problem with pip.\n",
            "error: subprocess-exited-with-error\n",
            "\n",
            "× pip subprocess to install build dependencies did not run successfully.\n",
            "│ exit code: 1\n",
            "╰─> See above for output.\n",
            "\n",
            "note: This error originates from a subprocess, and is likely not a problem with pip.\n"
          ]
        },
        {
          "name": "stdout",
          "output_type": "stream",
          "text": [
            "Collecting xmlschema\n",
            "  Downloading xmlschema-3.3.1-py3-none-any.whl.metadata (8.3 kB)\n",
            "Collecting elementpath<5.0.0,>=4.4.0 (from xmlschema)\n",
            "  Downloading elementpath-4.4.0-py3-none-any.whl.metadata (6.7 kB)\n",
            "Downloading xmlschema-3.3.1-py3-none-any.whl (415 kB)\n",
            "   ---------------------------------------- 0.0/415.3 kB ? eta -:--:--\n",
            "   ------------------------------- ------- 337.9/415.3 kB 10.6 MB/s eta 0:00:01\n",
            "   ---------------------------------------- 415.3/415.3 kB 5.2 MB/s eta 0:00:00\n",
            "Downloading elementpath-4.4.0-py3-none-any.whl (219 kB)\n",
            "   ---------------------------------------- 0.0/219.8 kB ? eta -:--:--\n",
            "   ---------------------------------------- 219.8/219.8 kB 6.8 MB/s eta 0:00:00\n",
            "Installing collected packages: elementpath, xmlschema\n",
            "Successfully installed elementpath-4.4.0 xmlschema-3.3.1\n"
          ]
        }
      ],
      "source": [
        "#!/bin/bash\n",
        "!pip install --upgrade pip\n",
        "\n",
        "!pip install -U --pre tensorflow==\"2.*\"\n",
        "!pip install tensorflow\n",
        "# Comment above and uncomment below if you want to install tensorflow-gpu instead of tensorflow on CoLab\n",
        "#!pip install tensorflow-gpu\n",
        "#pip install tensorflow[and-cuda]\n",
        "\n",
        "!pip install transformers\n",
        "!pip install tf-models-official\n",
        "!pip install tf-keras-vis"
      ]
    },
    {
      "cell_type": "markdown",
      "metadata": {},
      "source": []
    },
    {
      "cell_type": "markdown",
      "metadata": {},
      "source": [
        "Next, we'll need the (official) tools/libraries to read manga109 (annotation) data from https://github.com/manga109"
      ]
    },
    {
      "cell_type": "code",
      "execution_count": 1,
      "metadata": {},
      "outputs": [
        {
          "name": "stdout",
          "output_type": "stream",
          "text": [
            "Defaulting to user installation because normal site-packages is not writeable\n",
            "Collecting manga109api\n",
            "  Downloading manga109api-0.3.1-py3-none-any.whl.metadata (9.6 kB)\n",
            "Downloading manga109api-0.3.1-py3-none-any.whl (8.5 kB)\n",
            "Installing collected packages: manga109api\n",
            "Successfully installed manga109api-0.3.1\n"
          ]
        }
      ],
      "source": [
        "!pip install manga109api"
      ]
    },
    {
      "cell_type": "markdown",
      "metadata": {},
      "source": [
        "I want to know which version of TF is installed, I cannot run GPU version on my local machine...\n"
      ]
    },
    {
      "cell_type": "code",
      "execution_count": 12,
      "metadata": {},
      "outputs": [
        {
          "name": "stdout",
          "output_type": "stream",
          "text": [
            "TensorFlow version: 2.16.1\n",
            "TensorFlow configuration:\n",
            "[]\n",
            "[PhysicalDevice(name='/physical_device:CPU:0', device_type='CPU')]\n"
          ]
        }
      ],
      "source": [
        "#!/usr/bin/env python\n",
        "import tensorflow as tf\n",
        "\n",
        "# Check TensorFlow version\n",
        "print(\"TensorFlow version:\", tf.__version__)\n",
        "\n",
        "# Check TensorFlow configuration\n",
        "print(\"TensorFlow configuration:\")\n",
        "print(tf.config.list_physical_devices('GPU'))  # List available GPUs\n",
        "print(tf.config.list_physical_devices('CPU'))  # List available CPUs"
      ]
    },
    {
      "cell_type": "markdown",
      "metadata": {},
      "source": [
        "Next, I'd like to absolutely make sure we have access to TF-Vision for text detection; Because tensorflow-addons has become sunset as of May, 2024, we just need to verify that keras is accessible...\n"
      ]
    },
    {
      "cell_type": "code",
      "execution_count": 14,
      "metadata": {},
      "outputs": [
        {
          "name": "stdout",
          "output_type": "stream",
          "text": [
            "TensorFlow version: 2.16.1\n"
          ]
        },
        {
          "name": "stderr",
          "output_type": "stream",
          "text": [
            "C:\\Users\\HidekiAI\\AppData\\Roaming\\Python\\Python311\\site-packages\\keras\\src\\layers\\convolutional\\base_conv.py:107: UserWarning: Do not pass an `input_shape`/`input_dim` argument to a layer. When using Sequential models, prefer using an `Input(shape)` object as the first layer in the model instead.\n",
            "  super().__init__(activity_regularizer=activity_regularizer, **kwargs)\n"
          ]
        },
        {
          "data": {
            "text/html": [
              "<pre style=\"white-space:pre;overflow-x:auto;line-height:normal;font-family:Menlo,'DejaVu Sans Mono',consolas,'Courier New',monospace\"><span style=\"font-weight: bold\">Model: \"sequential\"</span>\n",
              "</pre>\n"
            ],
            "text/plain": [
              "\u001b[1mModel: \"sequential\"\u001b[0m\n"
            ]
          },
          "metadata": {},
          "output_type": "display_data"
        },
        {
          "data": {
            "text/html": [
              "<pre style=\"white-space:pre;overflow-x:auto;line-height:normal;font-family:Menlo,'DejaVu Sans Mono',consolas,'Courier New',monospace\">┏━━━━━━━━━━━━━━━━━━━━━━━━━━━━━━━━━┳━━━━━━━━━━━━━━━━━━━━━━━━┳━━━━━━━━━━━━━━━┓\n",
              "┃<span style=\"font-weight: bold\"> Layer (type)                    </span>┃<span style=\"font-weight: bold\"> Output Shape           </span>┃<span style=\"font-weight: bold\">       Param # </span>┃\n",
              "┡━━━━━━━━━━━━━━━━━━━━━━━━━━━━━━━━━╇━━━━━━━━━━━━━━━━━━━━━━━━╇━━━━━━━━━━━━━━━┩\n",
              "│ conv2d (<span style=\"color: #0087ff; text-decoration-color: #0087ff\">Conv2D</span>)                 │ (<span style=\"color: #00d7ff; text-decoration-color: #00d7ff\">None</span>, <span style=\"color: #00af00; text-decoration-color: #00af00\">32</span>, <span style=\"color: #00af00; text-decoration-color: #00af00\">32</span>, <span style=\"color: #00af00; text-decoration-color: #00af00\">16</span>)     │           <span style=\"color: #00af00; text-decoration-color: #00af00\">448</span> │\n",
              "├─────────────────────────────────┼────────────────────────┼───────────────┤\n",
              "│ max_pooling2d (<span style=\"color: #0087ff; text-decoration-color: #0087ff\">MaxPooling2D</span>)    │ (<span style=\"color: #00d7ff; text-decoration-color: #00d7ff\">None</span>, <span style=\"color: #00af00; text-decoration-color: #00af00\">16</span>, <span style=\"color: #00af00; text-decoration-color: #00af00\">16</span>, <span style=\"color: #00af00; text-decoration-color: #00af00\">16</span>)     │             <span style=\"color: #00af00; text-decoration-color: #00af00\">0</span> │\n",
              "├─────────────────────────────────┼────────────────────────┼───────────────┤\n",
              "│ conv2d_1 (<span style=\"color: #0087ff; text-decoration-color: #0087ff\">Conv2D</span>)               │ (<span style=\"color: #00d7ff; text-decoration-color: #00d7ff\">None</span>, <span style=\"color: #00af00; text-decoration-color: #00af00\">16</span>, <span style=\"color: #00af00; text-decoration-color: #00af00\">16</span>, <span style=\"color: #00af00; text-decoration-color: #00af00\">32</span>)     │         <span style=\"color: #00af00; text-decoration-color: #00af00\">4,640</span> │\n",
              "├─────────────────────────────────┼────────────────────────┼───────────────┤\n",
              "│ max_pooling2d_1 (<span style=\"color: #0087ff; text-decoration-color: #0087ff\">MaxPooling2D</span>)  │ (<span style=\"color: #00d7ff; text-decoration-color: #00d7ff\">None</span>, <span style=\"color: #00af00; text-decoration-color: #00af00\">8</span>, <span style=\"color: #00af00; text-decoration-color: #00af00\">8</span>, <span style=\"color: #00af00; text-decoration-color: #00af00\">32</span>)       │             <span style=\"color: #00af00; text-decoration-color: #00af00\">0</span> │\n",
              "├─────────────────────────────────┼────────────────────────┼───────────────┤\n",
              "│ conv2d_2 (<span style=\"color: #0087ff; text-decoration-color: #0087ff\">Conv2D</span>)               │ (<span style=\"color: #00d7ff; text-decoration-color: #00d7ff\">None</span>, <span style=\"color: #00af00; text-decoration-color: #00af00\">8</span>, <span style=\"color: #00af00; text-decoration-color: #00af00\">8</span>, <span style=\"color: #00af00; text-decoration-color: #00af00\">64</span>)       │        <span style=\"color: #00af00; text-decoration-color: #00af00\">18,496</span> │\n",
              "├─────────────────────────────────┼────────────────────────┼───────────────┤\n",
              "│ max_pooling2d_2 (<span style=\"color: #0087ff; text-decoration-color: #0087ff\">MaxPooling2D</span>)  │ (<span style=\"color: #00d7ff; text-decoration-color: #00d7ff\">None</span>, <span style=\"color: #00af00; text-decoration-color: #00af00\">4</span>, <span style=\"color: #00af00; text-decoration-color: #00af00\">4</span>, <span style=\"color: #00af00; text-decoration-color: #00af00\">64</span>)       │             <span style=\"color: #00af00; text-decoration-color: #00af00\">0</span> │\n",
              "├─────────────────────────────────┼────────────────────────┼───────────────┤\n",
              "│ flatten (<span style=\"color: #0087ff; text-decoration-color: #0087ff\">Flatten</span>)               │ (<span style=\"color: #00d7ff; text-decoration-color: #00d7ff\">None</span>, <span style=\"color: #00af00; text-decoration-color: #00af00\">1024</span>)           │             <span style=\"color: #00af00; text-decoration-color: #00af00\">0</span> │\n",
              "├─────────────────────────────────┼────────────────────────┼───────────────┤\n",
              "│ dense (<span style=\"color: #0087ff; text-decoration-color: #0087ff\">Dense</span>)                   │ (<span style=\"color: #00d7ff; text-decoration-color: #00d7ff\">None</span>, <span style=\"color: #00af00; text-decoration-color: #00af00\">128</span>)            │       <span style=\"color: #00af00; text-decoration-color: #00af00\">131,200</span> │\n",
              "├─────────────────────────────────┼────────────────────────┼───────────────┤\n",
              "│ dense_1 (<span style=\"color: #0087ff; text-decoration-color: #0087ff\">Dense</span>)                 │ (<span style=\"color: #00d7ff; text-decoration-color: #00d7ff\">None</span>, <span style=\"color: #00af00; text-decoration-color: #00af00\">10</span>)             │         <span style=\"color: #00af00; text-decoration-color: #00af00\">1,290</span> │\n",
              "└─────────────────────────────────┴────────────────────────┴───────────────┘\n",
              "</pre>\n"
            ],
            "text/plain": [
              "┏━━━━━━━━━━━━━━━━━━━━━━━━━━━━━━━━━┳━━━━━━━━━━━━━━━━━━━━━━━━┳━━━━━━━━━━━━━━━┓\n",
              "┃\u001b[1m \u001b[0m\u001b[1mLayer (type)                   \u001b[0m\u001b[1m \u001b[0m┃\u001b[1m \u001b[0m\u001b[1mOutput Shape          \u001b[0m\u001b[1m \u001b[0m┃\u001b[1m \u001b[0m\u001b[1m      Param #\u001b[0m\u001b[1m \u001b[0m┃\n",
              "┡━━━━━━━━━━━━━━━━━━━━━━━━━━━━━━━━━╇━━━━━━━━━━━━━━━━━━━━━━━━╇━━━━━━━━━━━━━━━┩\n",
              "│ conv2d (\u001b[38;5;33mConv2D\u001b[0m)                 │ (\u001b[38;5;45mNone\u001b[0m, \u001b[38;5;34m32\u001b[0m, \u001b[38;5;34m32\u001b[0m, \u001b[38;5;34m16\u001b[0m)     │           \u001b[38;5;34m448\u001b[0m │\n",
              "├─────────────────────────────────┼────────────────────────┼───────────────┤\n",
              "│ max_pooling2d (\u001b[38;5;33mMaxPooling2D\u001b[0m)    │ (\u001b[38;5;45mNone\u001b[0m, \u001b[38;5;34m16\u001b[0m, \u001b[38;5;34m16\u001b[0m, \u001b[38;5;34m16\u001b[0m)     │             \u001b[38;5;34m0\u001b[0m │\n",
              "├─────────────────────────────────┼────────────────────────┼───────────────┤\n",
              "│ conv2d_1 (\u001b[38;5;33mConv2D\u001b[0m)               │ (\u001b[38;5;45mNone\u001b[0m, \u001b[38;5;34m16\u001b[0m, \u001b[38;5;34m16\u001b[0m, \u001b[38;5;34m32\u001b[0m)     │         \u001b[38;5;34m4,640\u001b[0m │\n",
              "├─────────────────────────────────┼────────────────────────┼───────────────┤\n",
              "│ max_pooling2d_1 (\u001b[38;5;33mMaxPooling2D\u001b[0m)  │ (\u001b[38;5;45mNone\u001b[0m, \u001b[38;5;34m8\u001b[0m, \u001b[38;5;34m8\u001b[0m, \u001b[38;5;34m32\u001b[0m)       │             \u001b[38;5;34m0\u001b[0m │\n",
              "├─────────────────────────────────┼────────────────────────┼───────────────┤\n",
              "│ conv2d_2 (\u001b[38;5;33mConv2D\u001b[0m)               │ (\u001b[38;5;45mNone\u001b[0m, \u001b[38;5;34m8\u001b[0m, \u001b[38;5;34m8\u001b[0m, \u001b[38;5;34m64\u001b[0m)       │        \u001b[38;5;34m18,496\u001b[0m │\n",
              "├─────────────────────────────────┼────────────────────────┼───────────────┤\n",
              "│ max_pooling2d_2 (\u001b[38;5;33mMaxPooling2D\u001b[0m)  │ (\u001b[38;5;45mNone\u001b[0m, \u001b[38;5;34m4\u001b[0m, \u001b[38;5;34m4\u001b[0m, \u001b[38;5;34m64\u001b[0m)       │             \u001b[38;5;34m0\u001b[0m │\n",
              "├─────────────────────────────────┼────────────────────────┼───────────────┤\n",
              "│ flatten (\u001b[38;5;33mFlatten\u001b[0m)               │ (\u001b[38;5;45mNone\u001b[0m, \u001b[38;5;34m1024\u001b[0m)           │             \u001b[38;5;34m0\u001b[0m │\n",
              "├─────────────────────────────────┼────────────────────────┼───────────────┤\n",
              "│ dense (\u001b[38;5;33mDense\u001b[0m)                   │ (\u001b[38;5;45mNone\u001b[0m, \u001b[38;5;34m128\u001b[0m)            │       \u001b[38;5;34m131,200\u001b[0m │\n",
              "├─────────────────────────────────┼────────────────────────┼───────────────┤\n",
              "│ dense_1 (\u001b[38;5;33mDense\u001b[0m)                 │ (\u001b[38;5;45mNone\u001b[0m, \u001b[38;5;34m10\u001b[0m)             │         \u001b[38;5;34m1,290\u001b[0m │\n",
              "└─────────────────────────────────┴────────────────────────┴───────────────┘\n"
            ]
          },
          "metadata": {},
          "output_type": "display_data"
        },
        {
          "data": {
            "text/html": [
              "<pre style=\"white-space:pre;overflow-x:auto;line-height:normal;font-family:Menlo,'DejaVu Sans Mono',consolas,'Courier New',monospace\"><span style=\"font-weight: bold\"> Total params: </span><span style=\"color: #00af00; text-decoration-color: #00af00\">156,074</span> (609.66 KB)\n",
              "</pre>\n"
            ],
            "text/plain": [
              "\u001b[1m Total params: \u001b[0m\u001b[38;5;34m156,074\u001b[0m (609.66 KB)\n"
            ]
          },
          "metadata": {},
          "output_type": "display_data"
        },
        {
          "data": {
            "text/html": [
              "<pre style=\"white-space:pre;overflow-x:auto;line-height:normal;font-family:Menlo,'DejaVu Sans Mono',consolas,'Courier New',monospace\"><span style=\"font-weight: bold\"> Trainable params: </span><span style=\"color: #00af00; text-decoration-color: #00af00\">156,074</span> (609.66 KB)\n",
              "</pre>\n"
            ],
            "text/plain": [
              "\u001b[1m Trainable params: \u001b[0m\u001b[38;5;34m156,074\u001b[0m (609.66 KB)\n"
            ]
          },
          "metadata": {},
          "output_type": "display_data"
        },
        {
          "data": {
            "text/html": [
              "<pre style=\"white-space:pre;overflow-x:auto;line-height:normal;font-family:Menlo,'DejaVu Sans Mono',consolas,'Courier New',monospace\"><span style=\"font-weight: bold\"> Non-trainable params: </span><span style=\"color: #00af00; text-decoration-color: #00af00\">0</span> (0.00 B)\n",
              "</pre>\n"
            ],
            "text/plain": [
              "\u001b[1m Non-trainable params: \u001b[0m\u001b[38;5;34m0\u001b[0m (0.00 B)\n"
            ]
          },
          "metadata": {},
          "output_type": "display_data"
        }
      ],
      "source": [
        "#!/usr/bin/env python\n",
        "from tensorflow.keras.layers import Dense, Conv2D, Flatten, MaxPooling2D\n",
        "from tensorflow.keras.models import Sequential\n",
        "import tensorflow as tf\n",
        "\n",
        "# Check TensorFlow version\n",
        "print(\"TensorFlow version:\", tf.__version__)\n",
        "\n",
        "# Access Keras functionality through tf.keras\n",
        "\n",
        "# Define a simple Sequential model\n",
        "model = Sequential([\n",
        "    Conv2D(16, 3, padding='same', activation='relu', input_shape=(32, 32, 3)),\n",
        "    MaxPooling2D(),\n",
        "    Conv2D(32, 3, padding='same', activation='relu'),\n",
        "    MaxPooling2D(),\n",
        "    Conv2D(64, 3, padding='same', activation='relu'),\n",
        "    MaxPooling2D(),\n",
        "    Flatten(),\n",
        "    Dense(128, activation='relu'),\n",
        "    Dense(10, activation='softmax')\n",
        "])\n",
        "\n",
        "# Compile the model\n",
        "model.compile(optimizer='adam',\n",
        "              loss='sparse_categorical_crossentropy',\n",
        "              metrics=['accuracy'])\n",
        "\n",
        "# Print model summary\n",
        "model.summary()"
      ]
    },
    {
      "cell_type": "markdown",
      "metadata": {},
      "source": [
        "Once TF-Vision is loaded, let's verify for sure via Python...\n"
      ]
    },
    {
      "cell_type": "code",
      "execution_count": 16,
      "metadata": {},
      "outputs": [
        {
          "name": "stdout",
          "output_type": "stream",
          "text": [
            "TensorFlow version: 2.16.1\n",
            "Downloading data from https://storage.googleapis.com/keras-applications/efficientnetb0.h5\n",
            "\u001b[1m21834768/21834768\u001b[0m \u001b[32m━━━━━━━━━━━━━━━━━━━━\u001b[0m\u001b[37m\u001b[0m \u001b[1m2s\u001b[0m 0us/step\n",
            "TensorFlow Vision (via Keras) is accessible.\n"
          ]
        }
      ],
      "source": [
        "#!/usr/bin/env python\n",
        "import tensorflow as tf\n",
        "from tensorflow.keras.applications import EfficientNetB0\n",
        "\n",
        "# Check TensorFlow version\n",
        "print(\"TensorFlow version:\", tf.__version__)\n",
        "\n",
        "# Try importing a TensorFlow Vision model (e.g., EfficientNet)\n",
        "try:\n",
        "    # Import the EfficientNetB0 model\n",
        "    model = EfficientNetB0(weights='imagenet')\n",
        "    print(\"TensorFlow Vision (via Keras) is accessible.\")\n",
        "except ImportError:\n",
        "    print(\"TensorFlow Vision (via Keras) is not accessible.\")"
      ]
    },
    {
      "cell_type": "markdown",
      "metadata": {},
      "source": [
        "Note that below is ONLY necessary for Google CoLab to access your Google Drive. If on Notepad/Jupyter, do the following instead (not exact, just the example):\n",
        "\n",
        "-   Linux: make sure to `ln -sv ~/Google/MyDrive /content/drive` to softlink your Google G-Drive as `/content/drive`\n",
        "-   Windows: From DOS Command Prompt (right clock to launch as Admin) `mklink.exe /D \"C:/content/drive\" \"C:/Users/HidekiAI/Google/MyDrive/\"` to create a dir-junction\n"
      ]
    },
    {
      "cell_type": "code",
      "execution_count": 20,
      "metadata": {},
      "outputs": [
        {
          "ename": "ModuleNotFoundError",
          "evalue": "No module named 'google.colab'",
          "output_type": "error",
          "traceback": [
            "\u001b[1;31m---------------------------------------------------------------------------\u001b[0m",
            "\u001b[1;31mModuleNotFoundError\u001b[0m                       Traceback (most recent call last)",
            "Cell \u001b[1;32mIn[20], line 3\u001b[0m\n\u001b[0;32m      1\u001b[0m \u001b[38;5;66;03m#!/usr/bin/python\u001b[39;00m\n\u001b[0;32m      2\u001b[0m \u001b[38;5;66;03m# No need to execute this if running locally, this is only for Google CoLab usage\u001b[39;00m\n\u001b[1;32m----> 3\u001b[0m \u001b[38;5;28;01mfrom\u001b[39;00m \u001b[38;5;21;01mgoogle\u001b[39;00m\u001b[38;5;21;01m.\u001b[39;00m\u001b[38;5;21;01mcolab\u001b[39;00m \u001b[38;5;28;01mimport\u001b[39;00m drive\n\u001b[0;32m      4\u001b[0m drive\u001b[38;5;241m.\u001b[39mmount(\u001b[38;5;124m'\u001b[39m\u001b[38;5;124m/content/drive\u001b[39m\u001b[38;5;124m'\u001b[39m)\n",
            "\u001b[1;31mModuleNotFoundError\u001b[0m: No module named 'google.colab'"
          ]
        }
      ],
      "source": [
        "#!/usr/bin/python\n",
        "# No need to execute this if running locally, this is only for Google CoLab usage\n",
        "from google.colab import drive\n",
        "drive.mount('/content/drive')"
      ]
    },
    {
      "cell_type": "markdown",
      "metadata": {},
      "source": [
        "Verify either via BASH or python that we can access `/content/drive` mount\n"
      ]
    },
    {
      "cell_type": "code",
      "execution_count": 19,
      "metadata": {},
      "outputs": [
        {
          "name": "stdout",
          "output_type": "stream",
          "text": [
            "/c/Users/HidekiAI/projects/remote/github/ML-manga109-OCR/training/text_detection\n",
            "\"Unable to validate Google Drive from bash script\"\n"
          ]
        }
      ],
      "source": [
        "#!/bin/bash\n",
        "! pwd && [ -e /content/drive/MyDrive ] || echo \"Unable to validate Google Drive from bash script\""
      ]
    },
    {
      "cell_type": "code",
      "execution_count": 3,
      "metadata": {},
      "outputs": [
        {
          "name": "stdout",
          "output_type": "stream",
          "text": [
            "['data', 'text_detection.ipynb', 'test.txt', 'desktop.ini']\n",
            "['Untitled0.ipynb', 'Manga109s', 'desktop.ini']\n",
            "['books.txt', 'readme.txt', 'annotations', 'annotations.v2018.05.31', 'annotations.v2020.12.18', 'images', 'desktop.ini']\n",
            "Users are requested to strictly observe the following rules when using Manga109-s;\n",
            "\n",
            "1.Redistribution of the Manga109-s dataset to third parties is forbidden.\n",
            "2.When publishing results (including pre-trained models) obtained from machine learning experiments or image processing experiments, the use of the Manga109-s dataset must be indicated clearly within the published work.\n",
            "3.Selling manga images within the dataset together with results obtained from machine learning experiments or image processing experiments is forbidden.\n",
            "4.Direct copies or modifications of the manga images within the Manga109-s dataset must not be treated as products, regardless of the product being either free or being sold for a fee.\n",
            "5.When publishing whole pages (or modifications of whole pages) of the manga works contained within the dataset for the purpose of presenting the results of research and development, the total number of whole pages (including modifications of whole pages) to be published must not exceed 20% of the entire book (volume), for each of the books (volumes) in the dataset. Publishing over 20% of whole pages or modifications of whole pages of any book (volume) is forbidden.\n",
            "6.When including manga material in an academic paper or video, users should include the relevant author’s name as “courtesy of [Author’s Name]”.\n",
            "7.When including manga extracts in an academic paper or video, users are requested to acknowledge their use of Manga109-s. In addition, when quoting Manga109 material in an academic paper, users are requested to cite the related paper. Titles:\n",
            "@article{multimedia_aizawa_2020,\n",
            "    author={Kiyoharu Aizawa and Azuma Fujimoto and Atsushi Otsubo and Toru Ogawa and Yusuke Matsui and Koki Tsubota and Hikaru Ikuta},\n",
            "    title={Building a Manga Dataset ``Manga109'' with Annotations for Multimedia Applications},\n",
            "    journal={IEEE MultiMedia},\n",
            "    volume={27},\n",
            "    number={2},\n",
            "    pages={8--18},\n",
            "    doi={10.1109/mmul.2020.2987895},\n",
            "    year={2020}\n",
            "}\n",
            "@article{mtap_matsui_2017,\n",
            "    author={Yusuke Matsui and Kota Ito and Yuji Aramaki and Azuma Fujimoto and Toru Ogawa and Toshihiko Yamasaki and Kiyoharu Aizawa},\n",
            "    title={Sketch-based Manga Retrieval using Manga109 Dataset},\n",
            "    journal={Multimedia Tools and Applications},\n",
            "    volume={76},\n",
            "    number={20},\n",
            "    pages={21811--21838},\n",
            "    doi={10.1007/s11042-016-4020-z},\n",
            "    year={2017}\n",
            "}\n",
            "\n",
            "Manga109 contains comics which are approximately 40 years old and may contain images that are considered inappropriate based on modern day global ethics. Please be careful upon its use.\n",
            "\n",
            "Folder Structure\n",
            "- images/: images\n",
            "- annotations/: annotations of the latest version (v2021.12.30)\n",
            "- annotations.v2020.12.18/: annotations of the old version\n",
            "- annotations.v2018.05.31/: annotations of the old version\n",
            "\n",
            "----------------------------------------------------------------------\n",
            "\n",
            "本データセットを使用するにあたって、以下の項目を遵守してください.\n",
            "\n",
            "\n",
            "1.第三者にデータを譲渡しないこと.\n",
            "2.機械学習実験及び画像処理実験で得た結果物（学習済みモデル等を含む）の公開にあたっては，Manga109-sデータセットの利用を明記すること．\n",
            "3.機械学習実験及び画像処理実験で得た結果物と漫画画像をセットにした形で作品の販売をしないこと．\n",
            "4.Manga109-s内の漫画画像の複製および改変を有料，無料を問わず商材としてはならない．\n",
            "5.研究開発の成果を示すために，漫画の頁あるいはその改変を公開する場合には，1巻当たり20％をこえた分量を公開してはならない．\n",
            "6.利用した画像を論文, ビデオなどで使用するときは, 当該漫画の作者名を「(作者名)提供」のように明示すること．\n",
            "7.論文での掲載にあたっては, Manga109-sのデータであることを明示し, 関連論文の引用をすること. 論文:\n",
            "@article{multimedia_aizawa_2020,\n",
            "    author={Kiyoharu Aizawa and Azuma Fujimoto and Atsushi Otsubo and Toru Ogawa and Yusuke Matsui and Koki Tsubota and Hikaru Ikuta},\n",
            "    title={Building a Manga Dataset ``Manga109'' with Annotations for Multimedia Applications},\n",
            "    journal={IEEE MultiMedia},\n",
            "    volume={27},\n",
            "    number={2},\n",
            "    pages={8--18},\n",
            "    doi={10.1109/mmul.2020.2987895},\n",
            "    year={2020}\n",
            "}\n",
            "@article{mtap_matsui_2017,\n",
            "    author={Yusuke Matsui and Kota Ito and Yuji Aramaki and Azuma Fujimoto and Toru Ogawa and Toshihiko Yamasaki and Kiyoharu Aizawa},\n",
            "    title={Sketch-based Manga Retrieval using Manga109 Dataset},\n",
            "    journal={Multimedia Tools and Applications},\n",
            "    volume={76},\n",
            "    number={20},\n",
            "    pages={21811--21838},\n",
            "    doi={10.1007/s11042-016-4020-z},\n",
            "    year={2017}\n",
            "}\n",
            "\n",
            "Manga109はおよそ40年前の漫画も扱っており，近年の世界的な倫理観では不適切な画像も含まれることがあります．その利用には注意してください．\n",
            "\n",
            "フォルダ構成\n",
            "- images/: 画像\n",
            "- annotations/: 最新版のアノテーション（v2021.12.30）\n",
            "- annotations.v2020.12.18/: 過去版のアノテーション\n",
            "- annotations.v2018.05.31/: 過去版のアノテーション\n",
            "\n"
          ]
        }
      ],
      "source": [
        "#!/usr/bin/env python\n",
        "import os\n",
        "\n",
        "global manga109_dir\n",
        "\n",
        "# Check if Google Drive is mounted and/or locally have symlink (or junctions) to access '/content/drive/MyDrive'\n",
        "if os.path.isdir('/content/drive'):\n",
        "    # list contents of the root directory of Google drive\n",
        "    root_paths = '/content/drive/MyDrive/projects/ML-manga-ocr-rust/'\n",
        "    drive_files = os.listdir(root_paths)\n",
        "    print(drive_files)\n",
        "    data_paths = os.path.join(root_paths, 'data/')\n",
        "    drive_files = os.listdir(data_paths)\n",
        "    print(drive_files)\n",
        "    zip_path = os.path.join(root_paths, 'data/Manga109s.zip')\n",
        "    if os.path.exists(zip_path):\n",
        "        # only UNZIP IF dir does not exist, else assume it's already unzipped\n",
        "        if not os.path.exists(data_paths):\n",
        "            # os.makedirs(data_paths)\n",
        "            #!unzip '{zip_path}' -d '{data_paths}'\n",
        "            with zipfile.ZipFile(zip_path, 'r') as zip_ref:\n",
        "                zip_ref.extractall(data_paths)\n",
        "                print('Unzipped the data to ', data_paths)\n",
        "    drive_files = os.listdir(data_paths)\n",
        "    manga109_dir = os.path.join(\n",
        "        data_paths, 'Manga109s/Manga109s_released_2023_12_07/')\n",
        "    data_dir_files = os.listdir(manga109_dir)\n",
        "    print(data_dir_files)\n",
        "    # lastly, notify users of their license by printing the readme.txt\n",
        "    readme_path = os.path.join(manga109_dir, 'readme.txt')\n",
        "    with open(readme_path, 'r', encoding=\"utf-8\") as file:\n",
        "        print(file.read())\n",
        "else:\n",
        "    print(\"Google Drive is not mounted.\")"
      ]
    },
    {
      "cell_type": "markdown",
      "metadata": {},
      "source": [
        "Now that we have manga dir accessible, let's try out the manga109api..."
      ]
    },
    {
      "cell_type": "code",
      "execution_count": 11,
      "metadata": {},
      "outputs": [
        {
          "name": "stderr",
          "output_type": "stream",
          "text": [
            "Clipping input data to the valid range for imshow with RGB data ([0..1] for floats or [0..255] for integers).\n"
          ]
        },
        {
          "data": {
            "image/png": "[encoded data removed]",
            "text/plain": [
              "<Figure size 640x480 with 1 Axes>"
            ]
          },
          "metadata": {},
          "output_type": "display_data"
        }
      ],
      "source": [
        "#!/usr/bin/env python\n",
        "import manga109api\n",
        "from PIL import Image, ImageDraw\n",
        "\n",
        "def draw_rectangle(img, x0, y0, x1, y1, annotation_type):\n",
        "    assert annotation_type in [\"body\", \"face\", \"frame\", \"text\"]\n",
        "    color = {\"body\": \"#258039\", \"face\": \"#f5be41\",\n",
        "             \"frame\": \"#31a9b8\", \"text\": \"#cf3721\"}[annotation_type]\n",
        "    draw = ImageDraw.Draw(img)\n",
        "    draw.rectangle([x0, y0, x1, y1], outline=color, width=10)\n",
        "\n",
        "if __name__ == \"__main__\":\n",
        "    book = \"ARMS\"\n",
        "    page_index = 6\n",
        "\n",
        "    p = manga109api.Parser(root_dir=manga109_dir)\n",
        "    annotation = p.get_annotation(book=book)\n",
        "    img = Image.open(p.img_path(book=book, index=page_index))\n",
        "\n",
        "    for annotation_type in [\"body\", \"face\", \"frame\", \"text\"]:\n",
        "        rois = annotation[\"page\"][page_index][annotation_type]\n",
        "        for roi in rois:\n",
        "            draw_rectangle(img, roi[\"@xmin\"], roi[\"@ymin\"], roi[\"@xmax\"], roi[\"@ymax\"], annotation_type)\n",
        "\n",
        "    # Display preprocessed image\n",
        "    import matplotlib.pyplot as plt\n",
        "    plt.imshow(image)\n",
        "    plt.axis('off')\n",
        "    plt.show()"
      ]
    },
    {
      "cell_type": "markdown",
      "metadata": {},
      "source": [
        "Load and Preprocess Images with TensorFlow:\n"
      ]
    },
    {
      "cell_type": "markdown",
      "metadata": {},
      "source": [
        "If you did see an image load up with rectangles around texts, you are now ready to integrate it with TF-Vision..."
      ]
    },
    {
      "cell_type": "code",
      "execution_count": 10,
      "metadata": {},
      "outputs": [
        {
          "name": "stderr",
          "output_type": "stream",
          "text": [
            "Clipping input data to the valid range for imshow with RGB data ([0..1] for floats or [0..255] for integers).\n"
          ]
        },
        {
          "data": {
            "image/png": "[encoded data removed]",
            "text/plain": [
              "<Figure size 640x480 with 1 Axes>"
            ]
          },
          "metadata": {},
          "output_type": "display_data"
        }
      ],
      "source": [
        "#!/usr/bin/env python\n",
        "\n",
        "import tensorflow as tf\n",
        "import manga109api\n",
        "from PIL import Image, ImageDraw\n",
        "\n",
        "# Initialize Manga109 API\n",
        "manga109 = manga109api.Parser(root_dir=manga109_dir)\n",
        "\n",
        "# Choose a manga volume and page index\n",
        "volume = 'YumeiroCooking'\n",
        "page_index = 0\n",
        "\n",
        "# Load image using Manga109 API\n",
        "image = Image.open(manga109.img_path(book=volume, index=page_index))\n",
        "\n",
        "# Preprocess image using TensorFlow Keras\n",
        "image = tf.keras.preprocessing.image.img_to_array(image)\n",
        "image = tf.keras.applications.efficientnet.preprocess_input(image)\n",
        "\n",
        "# Display preprocessed image\n",
        "import matplotlib.pyplot as plt\n",
        "plt.imshow(image)\n",
        "plt.axis('off')\n",
        "plt.show()\n"
      ]
    },
    {
      "cell_type": "markdown",
      "metadata": {},
      "source": [
        "If the above worked for single book/volume, we can now iterate the ENTIRE books it knows about:"
      ]
    },
    {
      "cell_type": "code",
      "execution_count": 12,
      "metadata": {},
      "outputs": [
        {
          "name": "stdout",
          "output_type": "stream",
          "text": [
            "Processing book: ARMS\n"
          ]
        },
        {
          "ename": "AttributeError",
          "evalue": "'Parser' object has no attribute 'get_pages'",
          "output_type": "error",
          "traceback": [
            "\u001b[1;31m---------------------------------------------------------------------------\u001b[0m",
            "\u001b[1;31mAttributeError\u001b[0m                            Traceback (most recent call last)",
            "Cell \u001b[1;32mIn[12], line 12\u001b[0m\n\u001b[0;32m     10\u001b[0m \u001b[38;5;28;01mfor\u001b[39;00m book \u001b[38;5;129;01min\u001b[39;00m manga109\u001b[38;5;241m.\u001b[39mbooks:\n\u001b[0;32m     11\u001b[0m     \u001b[38;5;28mprint\u001b[39m(\u001b[38;5;124mf\u001b[39m\u001b[38;5;124m\"\u001b[39m\u001b[38;5;124mProcessing book: \u001b[39m\u001b[38;5;132;01m{\u001b[39;00mbook\u001b[38;5;132;01m}\u001b[39;00m\u001b[38;5;124m\"\u001b[39m)\n\u001b[1;32m---> 12\u001b[0m     pages \u001b[38;5;241m=\u001b[39m manga109\u001b[38;5;241m.\u001b[39mget_pages(book)\n\u001b[0;32m     14\u001b[0m     \u001b[38;5;66;03m# Iterate through all pages in the book\u001b[39;00m\n\u001b[0;32m     15\u001b[0m     \u001b[38;5;28;01mfor\u001b[39;00m page_index, page \u001b[38;5;129;01min\u001b[39;00m \u001b[38;5;28menumerate\u001b[39m(pages):\n\u001b[0;32m     16\u001b[0m         \u001b[38;5;66;03m# Load image using Manga109 API\u001b[39;00m\n",
            "\u001b[1;31mAttributeError\u001b[0m: 'Parser' object has no attribute 'get_pages'"
          ]
        }
      ],
      "source": [
        "#!/usr/bin/env python\n",
        "\n",
        "import tensorflow as tf\n",
        "import manga109api\n",
        "\n",
        "# Initialize Manga109 API\n",
        "manga109 = manga109api.Parser(root_dir=manga109_dir)\n",
        "\n",
        "# Iterate through all books\n",
        "for book in manga109.books:\n",
        "    print(f\"Processing book: {book}\")\n",
        "    pages = manga109.get_pages(book)\n",
        "    \n",
        "    # Iterate through all pages in the book\n",
        "    for page_index, page in enumerate(pages):\n",
        "        # Load image using Manga109 API\n",
        "        image1 = manga109.get_image(book, page_index)\n",
        "        image = Image.open(manga109.img_path(book=volume, index=page_index))\n",
        "\n",
        "        # Preprocess image using TensorFlow Keras\n",
        "        image = tf.keras.preprocessing.image.img_to_array(image)\n",
        "        image = tf.keras.applications.efficientnet.preprocess_input(image)\n",
        "\n",
        "        # Display preprocessed image (optional)\n",
        "        # import matplotlib.pyplot as plt\n",
        "        # plt.imshow(image)\n",
        "        # plt.axis('off')\n",
        "        # plt.show()\n"
      ]
    }
  ],
  "metadata": {
    "colab": {
      "authorship_tag": "ABX9TyMJa4AZntSaTgDIhORKwCOR",
      "include_colab_link": true,
      "provenance": [],
      "toc_visible": true
    },
    "kernelspec": {
      "display_name": "Python 3",
      "name": "python3"
    },
    "language_info": {
      "codemirror_mode": {
        "name": "ipython",
        "version": 3
      },
      "file_extension": ".py",
      "mimetype": "text/x-python",
      "name": "python",
      "nbconvert_exporter": "python",
      "pygments_lexer": "ipython3",
      "version": "3.11.7"
    }
  },
  "nbformat": 4,
  "nbformat_minor": 0
}
